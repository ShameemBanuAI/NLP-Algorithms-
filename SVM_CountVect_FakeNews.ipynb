{
 "cells": [
  {
   "cell_type": "code",
   "execution_count": 1,
   "id": "88de14fe-72af-4f74-a74c-9e35dbe3d188",
   "metadata": {},
   "outputs": [],
   "source": [
    "import pandas as pd\n",
    "import numpy as np\n",
    "import itertools\n",
    "from sklearn.feature_extraction.text import CountVectorizer, TfidfVectorizer, HashingVectorizer\n",
    "from sklearn.model_selection import train_test_split\n",
    "from sklearn.svm import SVC\n",
    "from sklearn.metrics import accuracy_score,classification_report,confusion_matrix\n"
   ]
  },
  {
   "cell_type": "code",
   "execution_count": 2,
   "id": "636d6dd5-a22f-4ab7-93ef-3c693044b221",
   "metadata": {},
   "outputs": [],
   "source": [
    "df=pd.read_csv('news.csv', index_col=None)"
   ]
  },
  {
   "cell_type": "code",
   "execution_count": 3,
   "id": "51c75db8-eabe-490a-bcda-9f66af2ad034",
   "metadata": {},
   "outputs": [],
   "source": [
    "dataset=df.drop(\"Unnamed: 0\",axis=1)"
   ]
  },
  {
   "cell_type": "code",
   "execution_count": 4,
   "id": "1ae3dcf2-0e54-431f-a30d-82cf08ace252",
   "metadata": {},
   "outputs": [],
   "source": [
    "x=dataset['text']\n",
    "y=dataset['label']"
   ]
  },
  {
   "cell_type": "code",
   "execution_count": 5,
   "id": "dfa19d4d-2205-486b-8b83-61d3c5ff696a",
   "metadata": {},
   "outputs": [],
   "source": [
    "X_train, X_test, y_train, y_test = train_test_split(x, y, test_size=0.33, random_state=53)"
   ]
  },
  {
   "cell_type": "code",
   "execution_count": 6,
   "id": "5a9f5d5d-4fb6-46ae-9181-96a63ffdf7b1",
   "metadata": {},
   "outputs": [
    {
     "data": {
      "text/plain": [
       "(2576                                                     \n",
       " 1539    Report Copyright Violation Do you think there ...\n",
       " 5163    The election in 232 photos, 43 numbers and 131...\n",
       " 2615    Email Ever wonder what’s on the mind of today’...\n",
       " 4270    Wells Fargo is Rotting from the Top Down Wells...\n",
       "                               ...                        \n",
       " 662     —Debby Borza stood before a wall of photos of ...\n",
       " 3261    Presumptive Republican nominee Donald Trump ha...\n",
       " 5883    December's job growth numbers are in, and they...\n",
       " 2933    In a wide-ranging discussion, Trump also said ...\n",
       " 797     Top officials of the Cruz campaign are convinc...\n",
       " Name: text, Length: 4244, dtype: object,\n",
       " 4221    Donald Trump threatened to sue the New York Ti...\n",
       " 1685    Planned Parenthood: Abortion pill usage now ri...\n",
       " 3348    In a last dash, final \"hail mary\" attempt to e...\n",
       " 2633    Washington (CNN) Donald Trump and Ben Carson n...\n",
       " 975     The Obama administration announced Friday it w...\n",
       "                               ...                        \n",
       " 3888    In a marketing fiasco that could rank right up...\n",
       " 2015    Email \\nThe Politico/Morning Consult Poll find...\n",
       " 5860    The Maryland Democrat made the announcement Mo...\n",
       " 3071    Prev post Page 1 of 4 Next \\nWhen most people ...\n",
       " 4284    The Bushes are burning as they consume the new...\n",
       " Name: text, Length: 2091, dtype: object,\n",
       " 2576    FAKE\n",
       " 1539    FAKE\n",
       " 5163    REAL\n",
       " 2615    FAKE\n",
       " 4270    FAKE\n",
       "         ... \n",
       " 662     REAL\n",
       " 3261    REAL\n",
       " 5883    REAL\n",
       " 2933    REAL\n",
       " 797     REAL\n",
       " Name: label, Length: 4244, dtype: object,\n",
       " 4221    REAL\n",
       " 1685    FAKE\n",
       " 3348    REAL\n",
       " 2633    REAL\n",
       " 975     REAL\n",
       "         ... \n",
       " 3888    REAL\n",
       " 2015    FAKE\n",
       " 5860    REAL\n",
       " 3071    FAKE\n",
       " 4284    REAL\n",
       " Name: label, Length: 2091, dtype: object)"
      ]
     },
     "execution_count": 6,
     "metadata": {},
     "output_type": "execute_result"
    }
   ],
   "source": [
    "X_train, X_test, y_train, y_test"
   ]
  },
  {
   "cell_type": "code",
   "execution_count": 7,
   "id": "b6ecc421-f500-47ca-abce-84b8579b6beb",
   "metadata": {},
   "outputs": [],
   "source": [
    "count_vectorizer = CountVectorizer(stop_words='english')\n",
    "count_train = count_vectorizer.fit_transform(X_train)\n",
    "count_test = count_vectorizer.transform(X_test)"
   ]
  },
  {
   "cell_type": "code",
   "execution_count": 9,
   "id": "63294115-f0cc-4366-9a15-7f8e25a0360c",
   "metadata": {},
   "outputs": [],
   "source": [
    "clf=SVC(C=1.0, kernel='rbf', degree=3, gamma='scale',random_state=0)\n",
    "clf.fit(count_train,y_train)\n",
    "pred=clf.predict(count_test)\n"
   ]
  },
  {
   "cell_type": "code",
   "execution_count": 10,
   "id": "de501e5d-1c9d-4326-88f8-9554e9558ab1",
   "metadata": {},
   "outputs": [],
   "source": [
    "score=accuracy_score(y_test,pred)\n",
    "report=classification_report(y_test,pred)"
   ]
  },
  {
   "cell_type": "code",
   "execution_count": 11,
   "id": "ec615355-bdc5-4f82-af84-d0ebcb4442d3",
   "metadata": {},
   "outputs": [
    {
     "name": "stdout",
     "output_type": "stream",
     "text": [
      "Accuracy : 0.862 \n"
     ]
    }
   ],
   "source": [
    "print(\"Accuracy : %0.3f \" % score)"
   ]
  },
  {
   "cell_type": "code",
   "execution_count": 12,
   "id": "a0ddd12d-66b6-44b4-914f-4d3b91649751",
   "metadata": {},
   "outputs": [
    {
     "name": "stdout",
     "output_type": "stream",
     "text": [
      "              precision    recall  f1-score   support\n",
      "\n",
      "        FAKE       0.79      0.96      0.87      1008\n",
      "        REAL       0.96      0.77      0.85      1083\n",
      "\n",
      "    accuracy                           0.86      2091\n",
      "   macro avg       0.88      0.87      0.86      2091\n",
      "weighted avg       0.88      0.86      0.86      2091\n",
      "\n"
     ]
    }
   ],
   "source": [
    "print(report)"
   ]
  },
  {
   "cell_type": "code",
   "execution_count": 17,
   "id": "8b0181e2-01cb-46ad-82f6-2e3ff11a53cb",
   "metadata": {},
   "outputs": [
    {
     "name": "stdout",
     "output_type": "stream",
     "text": [
      "Google Pinterest Digg Linkedin Reddit Stumbleupon Print Delicious Pocket Tumblr \n",
      "There are two fundamental truths in this world: Paul Ryan desperately wants to be president. And Paul Ryan will never be president. Today proved it. \n",
      "In a particularly staggering example of political cowardice, Paul Ryan re-re-re-reversed course and announced that he was back on the Trump Train after all. This was an aboutface from where he was a few weeks ago. He had previously declared he would not be supporting or defending Trump after a tape was made public in which Trump bragged about assaulting women. Suddenly, Ryan was appearing at a pro-Trump rally and boldly declaring that he already sent in his vote to make him President of the United States. It was a surreal moment. The figurehead of the Republican Party dosed himself in gasoline, got up on a stage on a chilly afternoon in Wisconsin, and lit a match. . @SpeakerRyan says he voted for @realDonaldTrump : “Republicans, it is time to come home” https://t.co/VyTT49YvoE pic.twitter.com/wCvSCg4a5I \n",
      "— ABC News Politics (@ABCPolitics) November 5, 2016 \n",
      "The Democratic Party couldn’t have asked for a better moment of film. Ryan’s chances of ever becoming president went down to zero in an instant. In the wreckage Trump is to leave behind in his wake, those who cravenly backed his campaign will not recover. If Ryan’s career manages to limp all the way to 2020, then the DNC will have this tape locked and loaded to be used in every ad until Election Day. \n",
      "The ringing endorsement of the man he clearly hates on a personal level speaks volumes about his own spinelessness. Ryan has postured himself as a “principled” conservative, and one uncomfortable with Trump’s unapologetic bigotry and sexism. However, when push came to shove, Paul Ryan – like many of his colleagues – turned into a sniveling appeaser. After all his lofty tak about conviction, his principles were a house of cards and collapsed with the slightest breeze. \n",
      "What’s especially bizarre is how close Ryan came to making it through unscathed. For months the Speaker of the House refused to comment on Trump at all. His strategy seemed to be to keep his head down, pretend Trump didn’t exist, and hope that nobody remembered what happened in 2016. Now, just days away from the election, he screwed it all up. \n",
      "If 2016’s very ugly election has done any good it’s by exposing the utter cowardice of the Republicans who once feigned moral courage. A reality television star spit on them, hijacked their party, insulted their wives, and got every last one of them to kneel before him. What a turn of events. \n",
      "Featured image via Twitter\n"
     ]
    }
   ],
   "source": [
    "print(X_train[1])"
   ]
  },
  {
   "cell_type": "code",
   "execution_count": 13,
   "id": "82f7d39a-e0b1-49dc-8964-d28b7b18b9d1",
   "metadata": {},
   "outputs": [
    {
     "data": {
      "text/plain": [
       "array(['FAKE'], dtype=object)"
      ]
     },
     "execution_count": 13,
     "metadata": {},
     "output_type": "execute_result"
    }
   ],
   "source": [
    "clf.predict(count_train[1])"
   ]
  },
  {
   "cell_type": "code",
   "execution_count": null,
   "id": "1c9773d0-84d1-43bc-8d1b-b2a569c816ad",
   "metadata": {},
   "outputs": [],
   "source": []
  }
 ],
 "metadata": {
  "kernelspec": {
   "display_name": "Python 3 (ipykernel)",
   "language": "python",
   "name": "python3"
  },
  "language_info": {
   "codemirror_mode": {
    "name": "ipython",
    "version": 3
   },
   "file_extension": ".py",
   "mimetype": "text/x-python",
   "name": "python",
   "nbconvert_exporter": "python",
   "pygments_lexer": "ipython3",
   "version": "3.11.2"
  }
 },
 "nbformat": 4,
 "nbformat_minor": 5
}
